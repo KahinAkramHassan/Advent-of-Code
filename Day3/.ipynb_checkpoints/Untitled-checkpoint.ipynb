{
 "cells": [
  {
   "cell_type": "code",
   "execution_count": 269,
   "id": "575c00bf",
   "metadata": {},
   "outputs": [],
   "source": [
    "\n",
    "using DataStructures\n",
    "using Statistics"
   ]
  },
  {
   "cell_type": "code",
   "execution_count": 321,
   "id": "2d9d9bed",
   "metadata": {},
   "outputs": [
    {
     "name": "stdout",
     "output_type": "stream",
     "text": [
      "2346.0 1749.0 Total consumption = 4.103154e6\n"
     ]
    }
   ],
   "source": [
    "#Part1\n",
    "open(\"input_pavel.txt\") do f\n",
    "    \n",
    "    #the variables we need to solve the task\n",
    "    gamma_consumption = 0;\n",
    "    epsilon_consumption = 0;\n",
    "    input_arrays = [];\n",
    "    \n",
    "    #Read the file and split, parse and push each line into an array\n",
    "    while !eof(f)\n",
    "        line = readline(f);\n",
    "        line_split = parse.(Int64, split(line, \"\"));\n",
    "        push!(input_arrays,line_split);\n",
    "    end\n",
    "    \n",
    "    #sum over the 2D array columns wise\n",
    "    sum_over_columns = sum(input_arrays, dims=1)[1];\n",
    "    \n",
    "    #Count whether 1 or 0 occurs the most. If sum is over 0.5 then the result is 1. \n",
    "    gamma_rate = round.(sum_over_columns ./ length(input_arrays));\n",
    "   \n",
    "    #Calculate epsilon\n",
    "    epsilon_rate = [];\n",
    "    for i in 1:length(gamma_rate)\n",
    "        #The epsilon rate is just the mirror of gamma\n",
    "        push!(epsilon_rate, abs(gamma_rate[i]-1));\n",
    "        \n",
    "        #Convert the binary code to decimal numbers\n",
    "        gamma_consumption += gamma_rate[i]*(2^(length(gamma_rate)-i));\n",
    "        epsilon_consumption += epsilon_rate[i]*(2^(length(gamma_rate)-i));\n",
    "    end\n",
    "    \n",
    "    #Print the results\n",
    "    println(gamma_consumption, \" \", epsilon_consumption, \" Total consumption = \", gamma_consumption*epsilon_consumption);\n",
    "    \n",
    "end"
   ]
  },
  {
   "cell_type": "code",
   "execution_count": null,
   "id": "bf950d32",
   "metadata": {},
   "outputs": [],
   "source": [
    "  #=\n",
    "        push!(first,line_split[1]);\n",
    "        push!(second,line_split[2]);\n",
    "        push!(third,line_split[3]);\n",
    "        push!(fourth,line_split[4]);\n",
    "        push!(fifth,line_split[5]);\n",
    "        =#\n",
    "\n",
    "    end\n",
    "    \n",
    "    #=\n",
    "    println(first)\n",
    "    #Count\n",
    "    gamma_rate = [];\n",
    "    push!(gamma_rate, mean(first) < 0.5 ? 0 : 1)\n",
    "    push!(gamma_rate, mean(second) < 0.5 ? 0 : 1)\n",
    "    push!(gamma_rate, mean(third) < 0.5 ? 0 : 1)\n",
    "    push!(gamma_rate, mean(fourth) < 0.5 ? 0 : 1)\n",
    "    push!(gamma_rate, mean(fifth) < 0.5 ? 0 : 1)\n",
    "    \n",
    "    eps_rate = []\n",
    "    for i in gamma_rate\n",
    "         push!(eps_rate,abs(i-1));\n",
    "    end\n",
    "    \n",
    "    gamma_consumption = (gamma_rate[1]*(2^4)) + (gamma_rate[2]*(2^3)) + (gamma_rate[3]*(2^2)) + (gamma_rate[4]*(2^1)) + (gamma_rate[5]*(2^0));\n",
    "    eps_consumption = (eps_rate[1]*(2^4)) + (eps_rate[2]*(2^3)) + (eps_rate[3]*(2^2)) + (eps_rate[4]*(2^1)) + (eps_rate[5]*(2^0));\n",
    "    \n",
    "    println(gamma_rate, \" \", gamma_consumption)\n",
    "    println(eps_rate, \" \", eps_consumption)\n",
    "    \n",
    "    total_consumption = gamma_consumption * eps_consumption;\n",
    "    \n",
    "    println(total_consumption)\n",
    "    =#\n",
    "     "
   ]
  }
 ],
 "metadata": {
  "kernelspec": {
   "display_name": "Julia 1.7.0",
   "language": "julia",
   "name": "julia-1.7"
  },
  "language_info": {
   "file_extension": ".jl",
   "mimetype": "application/julia",
   "name": "julia",
   "version": "1.7.0"
  }
 },
 "nbformat": 4,
 "nbformat_minor": 5
}
