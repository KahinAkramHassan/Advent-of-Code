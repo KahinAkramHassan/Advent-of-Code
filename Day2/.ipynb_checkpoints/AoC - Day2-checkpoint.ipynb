{
 "cells": [
  {
   "cell_type": "code",
   "execution_count": 20,
   "id": "53b002eb",
   "metadata": {},
   "outputs": [
    {
     "name": "stdout",
     "output_type": "stream",
     "text": [
      "Result = 1990000\n"
     ]
    }
   ],
   "source": [
    "#part1\n",
    "\n",
    "open(\"input\") do f\n",
    "    horizontal = 0; \n",
    "    depth = 0;\n",
    "    while !eof(f)\n",
    "        line = readline(f);\n",
    "        split_line = split(line, \" \");\n",
    "        \n",
    "        if split_line[1] == \"forward\"\n",
    "            horizontal += parse(Int64, split_line[2]);\n",
    "        elseif split_line[1] == \"down\"\n",
    "            depth += parse(Int64, split_line[2]);\n",
    "        elseif split_line[1] == \"up\"\n",
    "            depth -= parse(Int64, split_line[2]);\n",
    "        end\n",
    "    end\n",
    "    println(\"Result = \", horizontal * depth;)\n",
    "end"
   ]
  },
  {
   "cell_type": "code",
   "execution_count": 29,
   "id": "8bd121d6",
   "metadata": {},
   "outputs": [
    {
     "name": "stdout",
     "output_type": "stream",
     "text": [
      "5 0 0\n",
      "5 0 0\n",
      "13 40 520\n",
      "13 40 520\n",
      "13 40 520\n",
      "15 60 900\n"
     ]
    }
   ],
   "source": [
    "#part2\n",
    "\n",
    "#=    \n",
    "    down X increases your aim by X units. \n",
    "    up X decreases your aim by X units.\n",
    "    forward X does two things:\n",
    "        It increases your horizontal position by X units.\n",
    "        It increases your depth by your aim multiplied by X.\n",
    "=#\n",
    "\n",
    "open(\"test.txt\") do f\n",
    "    horizontal = 0; \n",
    "    depth = 0;\n",
    "    aim = 0;\n",
    "   \n",
    "    while !eof(f)\n",
    "        line = readline(f);\n",
    "        split_line = split(line, \" \");\n",
    "        \n",
    "        if split_line[1] == \"forward\"\n",
    "            \n",
    "            x = parse(Int64, split_line[2]);\n",
    "            horizontal += x;\n",
    "            if aim > 0\n",
    "                depth += x*aim;\n",
    "            end\n",
    "        elseif split_line[1] == \"down\"\n",
    "            aim += parse(Int64, split_line[2]);\n",
    "        elseif split_line[1] == \"up\"\n",
    "            aim -= parse(Int64, split_line[2]);\n",
    "        end\n",
    "    end\n",
    "      println(horizontal,\" \", depth, \" \", horizontal*depth)\n",
    "end\n"
   ]
  },
  {
   "cell_type": "code",
   "execution_count": null,
   "id": "5d83bb41",
   "metadata": {},
   "outputs": [],
   "source": []
  }
 ],
 "metadata": {
  "kernelspec": {
   "display_name": "Julia 1.7.0",
   "language": "julia",
   "name": "julia-1.7"
  },
  "language_info": {
   "file_extension": ".jl",
   "mimetype": "application/julia",
   "name": "julia",
   "version": "1.7.0"
  }
 },
 "nbformat": 4,
 "nbformat_minor": 5
}
