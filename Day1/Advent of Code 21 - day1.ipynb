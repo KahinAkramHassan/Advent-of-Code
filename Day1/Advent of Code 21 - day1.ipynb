{
 "cells": [
  {
   "cell_type": "code",
   "execution_count": 94,
   "id": "c2c42f6d",
   "metadata": {},
   "outputs": [
    {
     "name": "stdout",
     "output_type": "stream",
     "text": [
      "1521\n"
     ]
    }
   ],
   "source": [
    "#Part1\n",
    "open(\"day1_input\") do f\n",
    "    counter = 0;\n",
    "    prev = -1;\n",
    "    \n",
    "    \n",
    "    while !eof(f)\n",
    "        prev = prev\n",
    "        curr = parse(Int64, readline(f));\n",
    "        \n",
    "        if prev >= 0\n",
    "            prev < curr ? counter += 1 : 0\n",
    "        end\n",
    "        \n",
    "        prev = curr\n",
    "    end\n",
    "    println(counter)\n",
    "end"
   ]
  },
  {
   "cell_type": "code",
   "execution_count": 99,
   "id": "03af3175",
   "metadata": {},
   "outputs": [
    {
     "name": "stdout",
     "output_type": "stream",
     "text": [
      "1543\n"
     ]
    }
   ],
   "source": [
    "#Part2\n",
    "#Part1\n",
    "open(\"day1_input\") do f\n",
    "    counter = 0;\n",
    "    prev = -1;\n",
    "    prevprev = -1;\n",
    "    sumprev = -1;\n",
    "    \n",
    "    while !eof(f)\n",
    "        prev = prev;\n",
    "        curr = parse(Int64, readline(f));\n",
    "        \n",
    "        if prevprev >=0\n",
    "            \n",
    "            sum = prevprev + prev + curr;\n",
    "            \n",
    "            if sumprev >=0\n",
    "                if sum > sumprev\n",
    "                    counter += 1;\n",
    "                end\n",
    "            end\n",
    "            sumprev = sum;\n",
    "        end\n",
    "        prevprev = prev;\n",
    "        prev = curr; \n",
    "\n",
    "    end\n",
    "    println(counter)\n",
    "end"
   ]
  },
  {
   "cell_type": "code",
   "execution_count": null,
   "id": "a6375ca3",
   "metadata": {},
   "outputs": [],
   "source": []
  }
 ],
 "metadata": {
  "kernelspec": {
   "display_name": "Julia 1.7.0",
   "language": "julia",
   "name": "julia-1.7"
  },
  "language_info": {
   "file_extension": ".jl",
   "mimetype": "application/julia",
   "name": "julia",
   "version": "1.7.0"
  }
 },
 "nbformat": 4,
 "nbformat_minor": 5
}
